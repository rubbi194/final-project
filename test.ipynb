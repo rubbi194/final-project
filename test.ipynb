{
 "cells": [
  {
   "cell_type": "code",
   "execution_count": 1,
   "id": "7073ee28",
   "metadata": {},
   "outputs": [
    {
     "name": "stdout",
     "output_type": "stream",
     "text": [
      "loading Roboflow workspace...\n",
      "loading Roboflow project...\n"
     ]
    },
    {
     "name": "stderr",
     "output_type": "stream",
     "text": [
      "Downloading Dataset Version Zip in My-First-Project-7 to yolov8:: 100%|██████████| 645053/645053 [00:36<00:00, 17683.19it/s]"
     ]
    },
    {
     "name": "stdout",
     "output_type": "stream",
     "text": [
      "\n"
     ]
    },
    {
     "name": "stderr",
     "output_type": "stream",
     "text": [
      "\n",
      "Extracting Dataset Version Zip to My-First-Project-7 in yolov8:: 100%|██████████| 20452/20452 [00:12<00:00, 1690.75it/s]\n"
     ]
    }
   ],
   "source": [
    "from roboflow import Roboflow\n",
    "rf = Roboflow(api_key=\"2oeGI3QWbiYo6HNrErIp\")\n",
    "project = rf.workspace(\"aaaa-g4pgj\").project(\"my-first-project-pv3aw\")\n",
    "version = project.version(7)\n",
    "dataset = version.download(\"yolov8\")"
   ]
  },
  {
   "cell_type": "code",
   "execution_count": 2,
   "id": "ae9b4cd7",
   "metadata": {},
   "outputs": [
    {
     "name": "stdout",
     "output_type": "stream",
     "text": [
      "Ultralytics 8.3.40  Python-3.9.22 torch-2.7.0+cu128 CUDA:0 (NVIDIA GeForce RTX 3080, 10240MiB)\n",
      "Model summary (fused): 168 layers, 3,005,843 parameters, 0 gradients, 8.1 GFLOPs\n"
     ]
    },
    {
     "name": "stderr",
     "output_type": "stream",
     "text": [
      "\u001b[34m\u001b[1mval: \u001b[0mScanning C:\\Users\\User\\Documents\\Rabab\\My-First-Project-7\\test\\labels... 1608 images, 50 backgrounds, 0 corrupt: 100%|██████████| 1608/1608 [00:03<00:00, 418.89it/s]\n"
     ]
    },
    {
     "name": "stdout",
     "output_type": "stream",
     "text": [
      "\u001b[34m\u001b[1mval: \u001b[0mNew cache created: C:\\Users\\User\\Documents\\Rabab\\My-First-Project-7\\test\\labels.cache\n",
      "WARNING  Box and segment counts should be equal, but got len(segments) = 369, len(boxes) = 5181. To resolve this only boxes will be used and all segments will be removed. To avoid this please supply either a detect or segment dataset, not a detect-segment mixed dataset.\n"
     ]
    },
    {
     "name": "stderr",
     "output_type": "stream",
     "text": [
      "                 Class     Images  Instances      Box(P          R      mAP50  mAP50-95): 100%|██████████| 101/101 [00:10<00:00,  9.60it/s]\n"
     ]
    },
    {
     "name": "stdout",
     "output_type": "stream",
     "text": [
      "                   all       1608       5181      0.826      0.601       0.69      0.424\n",
      "Speed: 0.1ms preprocess, 1.1ms inference, 0.0ms loss, 1.1ms postprocess per image\n",
      "Results saved to \u001b[1mruns\\detect\\val9\u001b[0m\n",
      "MAP 50-95 0.42355147846393687\n",
      "MAP 50 0.6898987020350978\n",
      "MAP 75 0.44963939988570045\n",
      "MAP each category [    0.42355]\n",
      "Mean Precision 0.8256781843042572\n",
      "Mean Recall 0.6014282956958116\n",
      " [    0.42355]\n"
     ]
    }
   ],
   "source": [
    "from ultralytics import YOLO\n",
    "\n",
    "model = YOLO('C:/Users/User/Documents/Rabab/yolov8n/finetuning-1/weights/best.pt')  # Load pretrained model (change if using a custom model)\n",
    "\n",
    "# Validate the model — dataset and parameters inferred automatically\n",
    "metrics = model.val(data=dataset.location+\"/data.yaml\", split='test')\n",
    "\n",
    "# Accessing metrics\n",
    "print(\"MAP 50-95\", metrics.box.map)  # map50-95\n",
    "print(\"MAP 50\", metrics.box.map50)  # map50\n",
    "print(\"MAP 75\",metrics.box.map75)  # map75\n",
    "print(\"MAP each category\",metrics.box.maps)  # a list contains map50-95 of each category\n",
    "print(\"Mean Precision\",metrics.box.mp)\n",
    "print(\"Mean Recall\",metrics.box.mr)\n",
    "print(\"\",metrics.box.ap)"
   ]
  },
  {
   "cell_type": "code",
   "execution_count": 3,
   "id": "249243cf",
   "metadata": {},
   "outputs": [
    {
     "name": "stdout",
     "output_type": "stream",
     "text": [
      "Ultralytics 8.3.40  Python-3.9.22 torch-2.7.0+cu128 CUDA:0 (NVIDIA GeForce RTX 3080, 10240MiB)\n",
      "Model summary (fused): 168 layers, 11,125,971 parameters, 0 gradients, 28.4 GFLOPs\n"
     ]
    },
    {
     "name": "stderr",
     "output_type": "stream",
     "text": [
      "\u001b[34m\u001b[1mval: \u001b[0mScanning C:\\Users\\User\\Documents\\Rabab\\My-First-Project-7\\test\\labels.cache... 1608 images, 50 backgrounds, 0 corrupt: 100%|██████████| 1608/1608 [00:00<?, ?it/s]"
     ]
    },
    {
     "name": "stdout",
     "output_type": "stream",
     "text": [
      "WARNING  Box and segment counts should be equal, but got len(segments) = 369, len(boxes) = 5181. To resolve this only boxes will be used and all segments will be removed. To avoid this please supply either a detect or segment dataset, not a detect-segment mixed dataset.\n"
     ]
    },
    {
     "name": "stderr",
     "output_type": "stream",
     "text": [
      "\n",
      "                 Class     Images  Instances      Box(P          R      mAP50  mAP50-95): 100%|██████████| 101/101 [00:12<00:00,  8.39it/s]\n"
     ]
    },
    {
     "name": "stdout",
     "output_type": "stream",
     "text": [
      "                   all       1608       5181      0.843      0.613      0.712      0.453\n",
      "Speed: 0.1ms preprocess, 1.7ms inference, 0.0ms loss, 1.1ms postprocess per image\n",
      "Results saved to \u001b[1mruns\\detect\\val10\u001b[0m\n",
      "MAP 50-95 0.45258449691664254\n",
      "MAP 50 0.7119519241762311\n",
      "MAP 75 0.4880497853784383\n",
      "MAP each category [    0.45258]\n",
      "Mean Precision 0.8432060058619169\n",
      "Mean Recall 0.6126230457440649\n",
      " [    0.45258]\n"
     ]
    }
   ],
   "source": [
    "from ultralytics import YOLO\n",
    "\n",
    "model = YOLO('C:/Users/User/Documents/Rabab/yolov8s/finetuning-1/weights/best.pt')  # Load pretrained model (change if using a custom model)\n",
    "\n",
    "# Validate the model — dataset and parameters inferred automatically\n",
    "metrics = model.val(data=dataset.location+\"/data.yaml\", split='test')\n",
    "\n",
    "# Accessing metrics\n",
    "print(\"MAP 50-95\", metrics.box.map)  # map50-95\n",
    "print(\"MAP 50\", metrics.box.map50)  # map50\n",
    "print(\"MAP 75\",metrics.box.map75)  # map75\n",
    "print(\"MAP each category\",metrics.box.maps)  # a list contains map50-95 of each category\n",
    "print(\"Mean Precision\",metrics.box.mp)\n",
    "print(\"Mean Recall\",metrics.box.mr)\n",
    "print(\"\",metrics.box.ap)"
   ]
  },
  {
   "cell_type": "code",
   "execution_count": 4,
   "id": "53cab545",
   "metadata": {},
   "outputs": [
    {
     "name": "stdout",
     "output_type": "stream",
     "text": [
      "Ultralytics 8.3.40  Python-3.9.22 torch-2.7.0+cu128 CUDA:0 (NVIDIA GeForce RTX 3080, 10240MiB)\n",
      "Model summary (fused): 218 layers, 25,840,339 parameters, 0 gradients, 78.7 GFLOPs\n"
     ]
    },
    {
     "name": "stderr",
     "output_type": "stream",
     "text": [
      "\u001b[34m\u001b[1mval: \u001b[0mScanning C:\\Users\\User\\Documents\\Rabab\\My-First-Project-7\\test\\labels.cache... 1608 images, 50 backgrounds, 0 corrupt: 100%|██████████| 1608/1608 [00:00<?, ?it/s]"
     ]
    },
    {
     "name": "stdout",
     "output_type": "stream",
     "text": [
      "WARNING  Box and segment counts should be equal, but got len(segments) = 369, len(boxes) = 5181. To resolve this only boxes will be used and all segments will be removed. To avoid this please supply either a detect or segment dataset, not a detect-segment mixed dataset.\n"
     ]
    },
    {
     "name": "stderr",
     "output_type": "stream",
     "text": [
      "\n",
      "                 Class     Images  Instances      Box(P          R      mAP50  mAP50-95): 100%|██████████| 101/101 [00:12<00:00,  7.80it/s]\n"
     ]
    },
    {
     "name": "stdout",
     "output_type": "stream",
     "text": [
      "                   all       1608       5181       0.83      0.622      0.718      0.464\n",
      "Speed: 0.1ms preprocess, 2.3ms inference, 0.0ms loss, 1.0ms postprocess per image\n",
      "Results saved to \u001b[1mruns\\detect\\val11\u001b[0m\n",
      "MAP 50-95 0.46400023233011645\n",
      "MAP 50 0.7181440396279571\n",
      "MAP 75 0.5053230321556498\n",
      "MAP each category [      0.464]\n",
      "Mean Precision 0.829517866138434\n",
      "Mean Recall 0.6215016406099209\n",
      " [      0.464]\n"
     ]
    }
   ],
   "source": [
    "from ultralytics import YOLO\n",
    "\n",
    "model = YOLO('C:/Users/User/Documents/Rabab/yolov8m/finetuning-1/weights/best.pt')  # Load pretrained model (change if using a custom model)\n",
    "\n",
    "# Validate the model — dataset and parameters inferred automatically\n",
    "metrics = model.val(data=dataset.location+\"/data.yaml\", split='test')\n",
    "\n",
    "# Accessing metrics\n",
    "print(\"MAP 50-95\", metrics.box.map)  # map50-95\n",
    "print(\"MAP 50\", metrics.box.map50)  # map50\n",
    "print(\"MAP 75\",metrics.box.map75)  # map75\n",
    "print(\"MAP each category\",metrics.box.maps)  # a list contains map50-95 of each category\n",
    "print(\"Mean Precision\",metrics.box.mp)\n",
    "print(\"Mean Recall\",metrics.box.mr)\n",
    "print(\"\",metrics.box.ap)"
   ]
  },
  {
   "cell_type": "code",
   "execution_count": 5,
   "id": "fd5bab1d",
   "metadata": {},
   "outputs": [
    {
     "name": "stdout",
     "output_type": "stream",
     "text": [
      "Ultralytics 8.3.40  Python-3.9.22 torch-2.7.0+cu128 CUDA:0 (NVIDIA GeForce RTX 3080, 10240MiB)\n",
      "Model summary (fused): 268 layers, 43,607,379 parameters, 0 gradients, 164.8 GFLOPs\n"
     ]
    },
    {
     "name": "stderr",
     "output_type": "stream",
     "text": [
      "\u001b[34m\u001b[1mval: \u001b[0mScanning C:\\Users\\User\\Documents\\Rabab\\My-First-Project-7\\test\\labels.cache... 1608 images, 50 backgrounds, 0 corrupt: 100%|██████████| 1608/1608 [00:00<?, ?it/s]"
     ]
    },
    {
     "name": "stdout",
     "output_type": "stream",
     "text": [
      "WARNING  Box and segment counts should be equal, but got len(segments) = 369, len(boxes) = 5181. To resolve this only boxes will be used and all segments will be removed. To avoid this please supply either a detect or segment dataset, not a detect-segment mixed dataset.\n"
     ]
    },
    {
     "name": "stderr",
     "output_type": "stream",
     "text": [
      "\n",
      "                 Class     Images  Instances      Box(P          R      mAP50  mAP50-95): 100%|██████████| 101/101 [00:13<00:00,  7.48it/s]\n"
     ]
    },
    {
     "name": "stdout",
     "output_type": "stream",
     "text": [
      "                   all       1608       5181      0.837      0.616       0.72      0.468\n",
      "Speed: 0.1ms preprocess, 3.3ms inference, 0.0ms loss, 0.9ms postprocess per image\n",
      "Results saved to \u001b[1mruns\\detect\\val12\u001b[0m\n",
      "MAP 50-95 0.4679592220822076\n",
      "MAP 50 0.7203922079152764\n",
      "MAP 75 0.5137799438959486\n",
      "MAP each category [    0.46796]\n",
      "Mean Precision 0.8374018424164534\n",
      "Mean Recall 0.6164833043813935\n",
      " [    0.46796]\n"
     ]
    }
   ],
   "source": [
    "from ultralytics import YOLO\n",
    "\n",
    "model = YOLO('C:/Users/User/Documents/Rabab/yolov8l/finetuning-1/weights/best.pt')  # Load pretrained model (change if using a custom model)\n",
    "\n",
    "# Validate the model — dataset and parameters inferred automatically\n",
    "metrics = model.val(data=dataset.location+\"/data.yaml\", split='test')\n",
    "\n",
    "# Accessing metrics\n",
    "print(\"MAP 50-95\", metrics.box.map)  # map50-95\n",
    "print(\"MAP 50\", metrics.box.map50)  # map50\n",
    "print(\"MAP 75\",metrics.box.map75)  # map75\n",
    "print(\"MAP each category\",metrics.box.maps)  # a list contains map50-95 of each category\n",
    "print(\"Mean Precision\",metrics.box.mp)\n",
    "print(\"Mean Recall\",metrics.box.mr)\n",
    "print(\"\",metrics.box.ap)"
   ]
  },
  {
   "cell_type": "code",
   "execution_count": 6,
   "id": "5b26b9bb",
   "metadata": {},
   "outputs": [
    {
     "name": "stdout",
     "output_type": "stream",
     "text": [
      "Ultralytics 8.3.40  Python-3.9.22 torch-2.7.0+cu128 CUDA:0 (NVIDIA GeForce RTX 3080, 10240MiB)\n",
      "Model summary (fused): 268 layers, 68,124,531 parameters, 0 gradients, 257.4 GFLOPs\n"
     ]
    },
    {
     "name": "stderr",
     "output_type": "stream",
     "text": [
      "\u001b[34m\u001b[1mval: \u001b[0mScanning C:\\Users\\User\\Documents\\Rabab\\My-First-Project-7\\test\\labels.cache... 1608 images, 50 backgrounds, 0 corrupt: 100%|██████████| 1608/1608 [00:00<?, ?it/s]"
     ]
    },
    {
     "name": "stdout",
     "output_type": "stream",
     "text": [
      "WARNING  Box and segment counts should be equal, but got len(segments) = 369, len(boxes) = 5181. To resolve this only boxes will be used and all segments will be removed. To avoid this please supply either a detect or segment dataset, not a detect-segment mixed dataset.\n"
     ]
    },
    {
     "name": "stderr",
     "output_type": "stream",
     "text": [
      "\n",
      "                 Class     Images  Instances      Box(P          R      mAP50  mAP50-95): 100%|██████████| 101/101 [00:16<00:00,  6.13it/s]\n"
     ]
    },
    {
     "name": "stdout",
     "output_type": "stream",
     "text": [
      "                   all       1608       5181      0.836      0.619      0.721       0.47\n",
      "Speed: 0.1ms preprocess, 5.3ms inference, 0.0ms loss, 0.9ms postprocess per image\n",
      "Results saved to \u001b[1mruns\\detect\\val13\u001b[0m\n",
      "MAP 50-95 0.46966000538121183\n",
      "MAP 50 0.7214216239542042\n",
      "MAP 75 0.511562300897382\n",
      "MAP each category [    0.46966]\n",
      "Mean Precision 0.8364758140584024\n",
      "Mean Recall 0.6191854854275236\n",
      " [    0.46966]\n"
     ]
    }
   ],
   "source": [
    "from ultralytics import YOLO\n",
    "\n",
    "model = YOLO('C:/Users/User/Documents/Rabab/yolov8x/finetuning-1/weights/best.pt')  # Load pretrained model (change if using a custom model)\n",
    "\n",
    "# Validate the model — dataset and parameters inferred automatically\n",
    "metrics = model.val(data=dataset.location+\"/data.yaml\", split='test')\n",
    "\n",
    "# Accessing metrics\n",
    "print(\"MAP 50-95\", metrics.box.map)  # map50-95\n",
    "print(\"MAP 50\", metrics.box.map50)  # map50\n",
    "print(\"MAP 75\",metrics.box.map75)  # map75\n",
    "print(\"MAP each category\",metrics.box.maps)  # a list contains map50-95 of each category\n",
    "print(\"Mean Precision\",metrics.box.mp)\n",
    "print(\"Mean Recall\",metrics.box.mr)\n",
    "print(\"\",metrics.box.ap)"
   ]
  }
 ],
 "metadata": {
  "kernelspec": {
   "display_name": "ultralytics",
   "language": "python",
   "name": "python3"
  },
  "language_info": {
   "codemirror_mode": {
    "name": "ipython",
    "version": 3
   },
   "file_extension": ".py",
   "mimetype": "text/x-python",
   "name": "python",
   "nbconvert_exporter": "python",
   "pygments_lexer": "ipython3",
   "version": "3.9.22"
  }
 },
 "nbformat": 4,
 "nbformat_minor": 5
}

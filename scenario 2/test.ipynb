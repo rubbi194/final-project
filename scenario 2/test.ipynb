{
 "cells": [
  {
   "cell_type": "code",
   "execution_count": 1,
   "id": "7073ee28",
   "metadata": {},
   "outputs": [
    {
     "name": "stdout",
     "output_type": "stream",
     "text": [
      "loading Roboflow workspace...\n",
      "loading Roboflow project...\n"
     ]
    },
    {
     "name": "stderr",
     "output_type": "stream",
     "text": [
      "Downloading Dataset Version Zip in My-First-Project-7 to yolov8:: 100%|██████████| 645053/645053 [00:40<00:00, 15762.35it/s]"
     ]
    },
    {
     "name": "stdout",
     "output_type": "stream",
     "text": [
      "\n"
     ]
    },
    {
     "name": "stderr",
     "output_type": "stream",
     "text": [
      "\n",
      "Extracting Dataset Version Zip to My-First-Project-7 in yolov8:: 100%|██████████| 20452/20452 [00:07<00:00, 2623.09it/s]\n"
     ]
    }
   ],
   "source": [
    "from roboflow import Roboflow\n",
    "rf = Roboflow(api_key=\"2oeGI3QWbiYo6HNrErIp\")\n",
    "project = rf.workspace(\"aaaa-g4pgj\").project(\"my-first-project-pv3aw\")\n",
    "version = project.version(7)\n",
    "dataset = version.download(\"yolov8\")"
   ]
  },
  {
   "cell_type": "code",
   "execution_count": 3,
   "id": "ae9b4cd7",
   "metadata": {},
   "outputs": [
    {
     "name": "stdout",
     "output_type": "stream",
     "text": [
      "Ultralytics 8.3.182  Python-3.11.9 torch-2.8.0+cu128 CUDA:0 (NVIDIA GeForce RTX 5070, 12227MiB)\n",
      "Model summary (fused): 72 layers, 3,005,843 parameters, 0 gradients, 8.1 GFLOPs\n",
      "\u001b[34m\u001b[1mval: \u001b[0mFast image access  (ping: 0.00.0 ms, read: 1119.9338.1 MB/s, size: 62.9 KB)\n"
     ]
    },
    {
     "name": "stderr",
     "output_type": "stream",
     "text": [
      "\u001b[34m\u001b[1mval: \u001b[0mScanning D:\\Friends\\Rubi\\My-First-Project-7\\test\\labels... 1608 images, 50 backgrounds, 0 corrupt: 100%|██████████| 1608/1608 [00:01<00:00, 1563.99it/s]"
     ]
    },
    {
     "name": "stdout",
     "output_type": "stream",
     "text": [
      "\u001b[34m\u001b[1mval: \u001b[0mNew cache created: D:\\Friends\\Rubi\\My-First-Project-7\\test\\labels.cache\n",
      "WARNING Box and segment counts should be equal, but got len(segments) = 369, len(boxes) = 5181. To resolve this only boxes will be used and all segments will be removed. To avoid this please supply either a detect or segment dataset, not a detect-segment mixed dataset.\n"
     ]
    },
    {
     "name": "stderr",
     "output_type": "stream",
     "text": [
      "\n",
      "                 Class     Images  Instances      Box(P          R      mAP50  mAP50-95): 100%|██████████| 101/101 [00:06<00:00, 16.11it/s]\n"
     ]
    },
    {
     "name": "stdout",
     "output_type": "stream",
     "text": [
      "                   all       1608       5181      0.826      0.608      0.698      0.431\n",
      "Speed: 0.0ms preprocess, 0.6ms inference, 0.0ms loss, 1.0ms postprocess per image\n",
      "Results saved to \u001b[1mruns\\detect\\val\u001b[0m\n",
      "MAP 50-95 0.4311089350892602\n",
      "MAP 50 0.697617164405181\n",
      "MAP 75 0.46016247722970105\n",
      "MAP each category [    0.43111]\n",
      "Mean Precision 0.8262381659543544\n",
      "Mean Recall 0.6076047095155376\n",
      " [    0.43111]\n"
     ]
    }
   ],
   "source": [
    "from ultralytics import YOLO\n",
    "\n",
    "model = YOLO('yolov8n/finetuning-1/weights/best.pt')  # Load pretrained model (change if using a custom model)\n",
    "\n",
    "# Validate the model — dataset and parameters inferred automatically\n",
    "metrics = model.val(data=dataset.location+\"/data.yaml\", split='test')\n",
    "\n",
    "# Accessing metrics\n",
    "print(\"MAP 50-95\", metrics.box.map)  # map50-95\n",
    "print(\"MAP 50\", metrics.box.map50)  # map50\n",
    "print(\"MAP 75\",metrics.box.map75)  # map75\n",
    "print(\"MAP each category\",metrics.box.maps)  # a list contains map50-95 of each category\n",
    "print(\"Mean Precision\",metrics.box.mp)\n",
    "print(\"Mean Recall\",metrics.box.mr)\n",
    "print(\"\",metrics.box.ap)"
   ]
  },
  {
   "cell_type": "code",
   "execution_count": 4,
   "id": "249243cf",
   "metadata": {},
   "outputs": [
    {
     "name": "stdout",
     "output_type": "stream",
     "text": [
      "Ultralytics 8.3.182  Python-3.11.9 torch-2.8.0+cu128 CUDA:0 (NVIDIA GeForce RTX 5070, 12227MiB)\n",
      "Model summary (fused): 72 layers, 11,125,971 parameters, 0 gradients, 28.4 GFLOPs\n",
      "\u001b[34m\u001b[1mval: \u001b[0mFast image access  (ping: 0.00.0 ms, read: 1051.3404.4 MB/s, size: 67.5 KB)\n"
     ]
    },
    {
     "name": "stderr",
     "output_type": "stream",
     "text": [
      "\u001b[34m\u001b[1mval: \u001b[0mScanning D:\\Friends\\Rubi\\My-First-Project-7\\test\\labels.cache... 1608 images, 50 backgrounds, 0 corrupt: 100%|██████████| 1608/1608 [00:00<?, ?it/s]"
     ]
    },
    {
     "name": "stdout",
     "output_type": "stream",
     "text": [
      "WARNING Box and segment counts should be equal, but got len(segments) = 369, len(boxes) = 5181. To resolve this only boxes will be used and all segments will be removed. To avoid this please supply either a detect or segment dataset, not a detect-segment mixed dataset.\n"
     ]
    },
    {
     "name": "stderr",
     "output_type": "stream",
     "text": [
      "\n",
      "                 Class     Images  Instances      Box(P          R      mAP50  mAP50-95): 100%|██████████| 101/101 [00:06<00:00, 15.16it/s]\n"
     ]
    },
    {
     "name": "stdout",
     "output_type": "stream",
     "text": [
      "                   all       1608       5181      0.841      0.628      0.724      0.462\n",
      "Speed: 0.0ms preprocess, 0.7ms inference, 0.0ms loss, 1.0ms postprocess per image\n",
      "Results saved to \u001b[1mruns\\detect\\val2\u001b[0m\n",
      "MAP 50-95 0.46218037559121494\n",
      "MAP 50 0.7235769542075252\n",
      "MAP 75 0.49690132046790736\n",
      "MAP each category [    0.46218]\n",
      "Mean Precision 0.8409015867780157\n",
      "Mean Recall 0.6284148638260335\n",
      " [    0.46218]\n"
     ]
    }
   ],
   "source": [
    "from ultralytics import YOLO\n",
    "\n",
    "model = YOLO('yolov8s/finetuning-1/weights/best.pt')  # Load pretrained model (change if using a custom model)\n",
    "\n",
    "# Validate the model — dataset and parameters inferred automatically\n",
    "metrics = model.val(data=dataset.location+\"/data.yaml\", split='test')\n",
    "\n",
    "# Accessing metrics\n",
    "print(\"MAP 50-95\", metrics.box.map)  # map50-95\n",
    "print(\"MAP 50\", metrics.box.map50)  # map50\n",
    "print(\"MAP 75\",metrics.box.map75)  # map75\n",
    "print(\"MAP each category\",metrics.box.maps)  # a list contains map50-95 of each category\n",
    "print(\"Mean Precision\",metrics.box.mp)\n",
    "print(\"Mean Recall\",metrics.box.mr)\n",
    "print(\"\",metrics.box.ap)"
   ]
  },
  {
   "cell_type": "code",
   "execution_count": 5,
   "id": "53cab545",
   "metadata": {},
   "outputs": [
    {
     "name": "stdout",
     "output_type": "stream",
     "text": [
      "Ultralytics 8.3.182  Python-3.11.9 torch-2.8.0+cu128 CUDA:0 (NVIDIA GeForce RTX 5070, 12227MiB)\n",
      "Model summary (fused): 92 layers, 25,840,339 parameters, 0 gradients, 78.7 GFLOPs\n",
      "\u001b[34m\u001b[1mval: \u001b[0mFast image access  (ping: 0.00.0 ms, read: 980.4169.2 MB/s, size: 63.8 KB)\n"
     ]
    },
    {
     "name": "stderr",
     "output_type": "stream",
     "text": [
      "\u001b[34m\u001b[1mval: \u001b[0mScanning D:\\Friends\\Rubi\\My-First-Project-7\\test\\labels.cache... 1608 images, 50 backgrounds, 0 corrupt: 100%|██████████| 1608/1608 [00:00<?, ?it/s]"
     ]
    },
    {
     "name": "stdout",
     "output_type": "stream",
     "text": [
      "WARNING Box and segment counts should be equal, but got len(segments) = 369, len(boxes) = 5181. To resolve this only boxes will be used and all segments will be removed. To avoid this please supply either a detect or segment dataset, not a detect-segment mixed dataset.\n"
     ]
    },
    {
     "name": "stderr",
     "output_type": "stream",
     "text": [
      "\n",
      "                 Class     Images  Instances      Box(P          R      mAP50  mAP50-95): 100%|██████████| 101/101 [00:07<00:00, 13.37it/s]\n"
     ]
    },
    {
     "name": "stdout",
     "output_type": "stream",
     "text": [
      "                   all       1608       5181      0.835       0.64      0.737      0.478\n",
      "Speed: 0.0ms preprocess, 1.5ms inference, 0.0ms loss, 0.9ms postprocess per image\n",
      "Results saved to \u001b[1mruns\\detect\\val3\u001b[0m\n",
      "MAP 50-95 0.47798745330363845\n",
      "MAP 50 0.7366915185120377\n",
      "MAP 75 0.5234068208836347\n",
      "MAP each category [    0.47799]\n",
      "Mean Precision 0.8346039023952536\n",
      "Mean Recall 0.6396448562053657\n",
      " [    0.47799]\n"
     ]
    }
   ],
   "source": [
    "from ultralytics import YOLO\n",
    "\n",
    "model = YOLO('yolov8m/finetuning-1/weights/best.pt')  # Load pretrained model (change if using a custom model)\n",
    "\n",
    "# Validate the model — dataset and parameters inferred automatically\n",
    "metrics = model.val(data=dataset.location+\"/data.yaml\", split='test')\n",
    "\n",
    "# Accessing metrics\n",
    "print(\"MAP 50-95\", metrics.box.map)  # map50-95\n",
    "print(\"MAP 50\", metrics.box.map50)  # map50\n",
    "print(\"MAP 75\",metrics.box.map75)  # map75\n",
    "print(\"MAP each category\",metrics.box.maps)  # a list contains map50-95 of each category\n",
    "print(\"Mean Precision\",metrics.box.mp)\n",
    "print(\"Mean Recall\",metrics.box.mr)\n",
    "print(\"\",metrics.box.ap)"
   ]
  },
  {
   "cell_type": "code",
   "execution_count": 6,
   "id": "fd5bab1d",
   "metadata": {},
   "outputs": [
    {
     "name": "stdout",
     "output_type": "stream",
     "text": [
      "Ultralytics 8.3.182  Python-3.11.9 torch-2.8.0+cu128 CUDA:0 (NVIDIA GeForce RTX 5070, 12227MiB)\n",
      "Model summary (fused): 112 layers, 43,607,379 parameters, 0 gradients, 164.8 GFLOPs\n",
      "\u001b[34m\u001b[1mval: \u001b[0mFast image access  (ping: 0.00.0 ms, read: 789.4319.0 MB/s, size: 54.3 KB)\n"
     ]
    },
    {
     "name": "stderr",
     "output_type": "stream",
     "text": [
      "\u001b[34m\u001b[1mval: \u001b[0mScanning D:\\Friends\\Rubi\\My-First-Project-7\\test\\labels.cache... 1608 images, 50 backgrounds, 0 corrupt: 100%|██████████| 1608/1608 [00:00<?, ?it/s]"
     ]
    },
    {
     "name": "stdout",
     "output_type": "stream",
     "text": [
      "WARNING Box and segment counts should be equal, but got len(segments) = 369, len(boxes) = 5181. To resolve this only boxes will be used and all segments will be removed. To avoid this please supply either a detect or segment dataset, not a detect-segment mixed dataset.\n"
     ]
    },
    {
     "name": "stderr",
     "output_type": "stream",
     "text": [
      "\n",
      "                 Class     Images  Instances      Box(P          R      mAP50  mAP50-95): 100%|██████████| 101/101 [00:09<00:00, 10.70it/s]\n"
     ]
    },
    {
     "name": "stdout",
     "output_type": "stream",
     "text": [
      "                   all       1608       5181      0.818      0.632      0.726      0.474\n",
      "Speed: 0.0ms preprocess, 2.6ms inference, 0.0ms loss, 0.9ms postprocess per image\n",
      "Results saved to \u001b[1mruns\\detect\\val4\u001b[0m\n",
      "MAP 50-95 0.474257606056507\n",
      "MAP 50 0.7258604405847618\n",
      "MAP 75 0.5220680036751723\n",
      "MAP each category [    0.47426]\n",
      "Mean Precision 0.8181198824534583\n",
      "Mean Recall 0.6319243389307083\n",
      " [    0.47426]\n"
     ]
    }
   ],
   "source": [
    "from ultralytics import YOLO\n",
    "\n",
    "model = YOLO('yolov8l/finetuning-1/weights/best.pt')  # Load pretrained model (change if using a custom model)\n",
    "\n",
    "# Validate the model — dataset and parameters inferred automatically\n",
    "metrics = model.val(data=dataset.location+\"/data.yaml\", split='test')\n",
    "\n",
    "# Accessing metrics\n",
    "print(\"MAP 50-95\", metrics.box.map)  # map50-95\n",
    "print(\"MAP 50\", metrics.box.map50)  # map50\n",
    "print(\"MAP 75\",metrics.box.map75)  # map75\n",
    "print(\"MAP each category\",metrics.box.maps)  # a list contains map50-95 of each category\n",
    "print(\"Mean Precision\",metrics.box.mp)\n",
    "print(\"Mean Recall\",metrics.box.mr)\n",
    "print(\"\",metrics.box.ap)"
   ]
  },
  {
   "cell_type": "code",
   "execution_count": 7,
   "id": "5b26b9bb",
   "metadata": {},
   "outputs": [
    {
     "name": "stdout",
     "output_type": "stream",
     "text": [
      "Ultralytics 8.3.182  Python-3.11.9 torch-2.8.0+cu128 CUDA:0 (NVIDIA GeForce RTX 5070, 12227MiB)\n",
      "Model summary (fused): 112 layers, 68,124,531 parameters, 0 gradients, 257.4 GFLOPs\n",
      "\u001b[34m\u001b[1mval: \u001b[0mFast image access  (ping: 0.10.0 ms, read: 474.9118.5 MB/s, size: 60.8 KB)\n"
     ]
    },
    {
     "name": "stderr",
     "output_type": "stream",
     "text": [
      "\u001b[34m\u001b[1mval: \u001b[0mScanning D:\\Friends\\Rubi\\My-First-Project-7\\test\\labels.cache... 1608 images, 50 backgrounds, 0 corrupt: 100%|██████████| 1608/1608 [00:00<?, ?it/s]"
     ]
    },
    {
     "name": "stdout",
     "output_type": "stream",
     "text": [
      "WARNING Box and segment counts should be equal, but got len(segments) = 369, len(boxes) = 5181. To resolve this only boxes will be used and all segments will be removed. To avoid this please supply either a detect or segment dataset, not a detect-segment mixed dataset.\n"
     ]
    },
    {
     "name": "stderr",
     "output_type": "stream",
     "text": [
      "\n",
      "                 Class     Images  Instances      Box(P          R      mAP50  mAP50-95): 100%|██████████| 101/101 [00:11<00:00,  8.89it/s]\n"
     ]
    },
    {
     "name": "stdout",
     "output_type": "stream",
     "text": [
      "                   all       1608       5181      0.822      0.636      0.731      0.479\n",
      "Speed: 0.0ms preprocess, 3.9ms inference, 0.0ms loss, 0.9ms postprocess per image\n",
      "Results saved to \u001b[1mruns\\detect\\val5\u001b[0m\n",
      "MAP 50-95 0.47873499755077986\n",
      "MAP 50 0.7306553489427589\n",
      "MAP 75 0.5230025110726509\n",
      "MAP each category [    0.47873]\n",
      "Mean Precision 0.8217550808585538\n",
      "Mean Recall 0.6359776104999035\n",
      " [    0.47873]\n"
     ]
    }
   ],
   "source": [
    "from ultralytics import YOLO\n",
    "\n",
    "model = YOLO('yolov8x/finetuning-1/weights/best.pt')  # Load pretrained model (change if using a custom model)\n",
    "\n",
    "# Validate the model — dataset and parameters inferred automatically\n",
    "metrics = model.val(data=dataset.location+\"/data.yaml\", split='test')\n",
    "\n",
    "# Accessing metrics\n",
    "print(\"MAP 50-95\", metrics.box.map)  # map50-95\n",
    "print(\"MAP 50\", metrics.box.map50)  # map50\n",
    "print(\"MAP 75\",metrics.box.map75)  # map75\n",
    "print(\"MAP each category\",metrics.box.maps)  # a list contains map50-95 of each category\n",
    "print(\"Mean Precision\",metrics.box.mp)\n",
    "print(\"Mean Recall\",metrics.box.mr)\n",
    "print(\"\",metrics.box.ap)"
   ]
  }
 ],
 "metadata": {
  "kernelspec": {
   "display_name": "Python 3",
   "language": "python",
   "name": "python3"
  },
  "language_info": {
   "codemirror_mode": {
    "name": "ipython",
    "version": 3
   },
   "file_extension": ".py",
   "mimetype": "text/x-python",
   "name": "python",
   "nbconvert_exporter": "python",
   "pygments_lexer": "ipython3",
   "version": "3.11.9"
  }
 },
 "nbformat": 4,
 "nbformat_minor": 5
}

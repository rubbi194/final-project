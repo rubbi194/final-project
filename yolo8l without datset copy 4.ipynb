{
 "cells": [
  {
   "cell_type": "code",
   "execution_count": null,
   "id": "f30203c6",
   "metadata": {
    "vscode": {
     "languageId": "plaintext"
    }
   },
   "outputs": [],
   "source": [
    "\n",
    "from roboflow import Roboflow\n",
    "rf = Roboflow(api_key=\"2oeGI3QWbiYo6HNrErIp\")\n",
    "project = rf.workspace(\"aaaa-g4pgj\").project(\"my-first-project-pv3aw\")\n",
    "version = project.version(6)\n",
    "dataset = version.download(\"yolov8\")\n",
    "                "
   ]
  },
  {
   "cell_type": "code",
   "execution_count": null,
   "id": "77223ff4",
   "metadata": {
    "vscode": {
     "languageId": "plaintext"
    }
   },
   "outputs": [],
   "source": [
    "from ultralytics import YOLO\n",
    "\n",
    "model = YOLO('yolov8n.pt')  # Load pretrained model (change if using a custom model)\n",
    "\n",
    "# Train the model\n",
    "model.train(data=dataset.location + \"/data.yaml\",\n",
    "    epochs=100, imgsz=320, batch=8, optimizer='AdamW',\n",
    "    lr0=0.001, lrf=0.01,\n",
    "    warmup_epochs=3,\n",
    "    weight_decay=0.01,\n",
    "    patience=20,\n",
    "    device=0, workers=8, project=\"yolov8n\", name=\"finetuning-1\", exist_ok=True)"
   ]
  },
  {
   "cell_type": "code",
   "execution_count": null,
   "id": "dbc3c008",
   "metadata": {
    "vscode": {
     "languageId": "plaintext"
    }
   },
   "outputs": [],
   "source": [
    "# Validate the model — dataset and parameters inferred automatically\n",
    "metrics = model.val(data=dataset.location+\"/data.yaml\", split='test')\n",
    "\n",
    "# Accessing metrics\n",
    "print(\"MAP 50-95\", metrics.box.map)  # map50-95\n",
    "print(\"MAP 50\", metrics.box.map50)  # map50\n",
    "print(\"MAP 75\",metrics.box.map75)  # map75\n",
    "print(\"MAP each category\",metrics.box.maps)  # a list contains map50-95 of each category\n",
    "print(\"Mean Precision\",metrics.box.mp)\n",
    "print(\"Mean Recall\",metrics.box.mr)\n",
    "print(\"\",metrics.box.ap)"
   ]
  }
 ],
 "metadata": {
  "language_info": {
   "name": "python"
  }
 },
 "nbformat": 4,
 "nbformat_minor": 5
}
